{
 "cells": [
  {
   "cell_type": "code",
   "execution_count": 20,
   "id": "132b5af5",
   "metadata": {},
   "outputs": [],
   "source": [
    "import pandas as pd\n",
    "import statsmodels.formula.api as smf\n",
    "\n",
    "#Reference: https://www.andrewvillazon.com/logistic-regression-python-statsmodels/#examining-fit-results"
   ]
  },
  {
   "cell_type": "code",
   "execution_count": 21,
   "id": "49897cbb",
   "metadata": {},
   "outputs": [],
   "source": [
    "heart = pd.read_stata('modified heart attack data.dta')"
   ]
  },
  {
   "cell_type": "code",
   "execution_count": 22,
   "id": "1f4d7ef0",
   "metadata": {},
   "outputs": [
    {
     "name": "stdout",
     "output_type": "stream",
     "text": [
      "<class 'pandas.core.frame.DataFrame'>\n",
      "Int64Index: 264 entries, 0 to 263\n",
      "Data columns (total 15 columns):\n",
      " #   Column      Non-Null Count  Dtype   \n",
      "---  ------      --------------  -----   \n",
      " 0   attack      264 non-null    int8    \n",
      " 1   smokes      264 non-null    int8    \n",
      " 2   age         264 non-null    float32 \n",
      " 3   bmi         264 non-null    float32 \n",
      " 4   female      264 non-null    int8    \n",
      " 5   hsgrad      264 non-null    int8    \n",
      " 6   marstatus   264 non-null    category\n",
      " 7   alcohol     264 non-null    category\n",
      " 8   hightar     264 non-null    int8    \n",
      " 9   marstatus2  264 non-null    float32 \n",
      " 10  marstatus3  264 non-null    float32 \n",
      " 11  marstatus1  264 non-null    float32 \n",
      " 12  alcohol0    264 non-null    float32 \n",
      " 13  alcohol1    264 non-null    float32 \n",
      " 14  alcohol2    264 non-null    float32 \n",
      "dtypes: category(2), float32(8), int8(5)\n",
      "memory usage: 12.4 KB\n",
      "None\n",
      "   attack  smokes        age        bmi  female  hsgrad marstatus  \\\n",
      "0       0       0  60.292004  21.114553       0       0  Divorced   \n",
      "1       0       0  45.014355  24.868397       0       1   Married   \n",
      "2       0       0  61.955330  30.502745       0       0  Divorced   \n",
      "3       0       0  39.602947  24.629171       1       1    Single   \n",
      "4       0       0  45.476906  22.527441       1       1   Married   \n",
      "\n",
      "                    alcohol  hightar  marstatus2  marstatus3  marstatus1  \\\n",
      "0  Three or more drinks/day        0         0.0         1.0         0.0   \n",
      "1    Less than 3 drinks/day        0         1.0         0.0         0.0   \n",
      "2  Three or more drinks/day        0         0.0         1.0         0.0   \n",
      "3  Three or more drinks/day        0         0.0         0.0         1.0   \n",
      "4    Less than 3 drinks/day        0         1.0         0.0         0.0   \n",
      "\n",
      "   alcohol0  alcohol1  alcohol2  \n",
      "0       0.0       0.0       1.0  \n",
      "1       0.0       1.0       0.0  \n",
      "2       0.0       0.0       1.0  \n",
      "3       0.0       0.0       1.0  \n",
      "4       0.0       1.0       0.0  \n"
     ]
    }
   ],
   "source": [
    "print(heart.info())\n",
    "print(heart.head(5))"
   ]
  },
  {
   "cell_type": "code",
   "execution_count": 23,
   "id": "22b3f4d5",
   "metadata": {
    "scrolled": true
   },
   "outputs": [
    {
     "data": {
      "text/plain": [
       "0    138\n",
       "1    126\n",
       "Name: attack, dtype: int64"
      ]
     },
     "execution_count": 23,
     "metadata": {},
     "output_type": "execute_result"
    }
   ],
   "source": [
    "heart['attack'].value_counts()"
   ]
  },
  {
   "cell_type": "code",
   "execution_count": 43,
   "id": "916e2866",
   "metadata": {},
   "outputs": [
    {
     "name": "stdout",
     "output_type": "stream",
     "text": [
      "Optimization terminated successfully.\n",
      "         Current function value: 0.587731\n",
      "         Iterations 6\n",
      "                           Logit Regression Results                           \n",
      "==============================================================================\n",
      "Dep. Variable:                 attack   No. Observations:                  264\n",
      "Model:                          Logit   Df Residuals:                      255\n",
      "Method:                           MLE   Df Model:                            8\n",
      "Date:                Wed, 27 Apr 2022   Pseudo R-squ.:                  0.1508\n",
      "Time:                        02:17:38   Log-Likelihood:                -155.16\n",
      "converged:                       True   LL-Null:                       -182.72\n",
      "Covariance Type:            nonrobust   LLR p-value:                 4.195e-09\n",
      "==============================================================================\n",
      "                 coef    std err          z      P>|z|      [0.025      0.975]\n",
      "------------------------------------------------------------------------------\n",
      "Intercept     -6.2281      1.357     -4.588      0.000      -8.889      -3.568\n",
      "age            0.0310      0.013      2.457      0.014       0.006       0.056\n",
      "smokes         1.5476      0.355      4.357      0.000       0.851       2.244\n",
      "bmi            0.1209      0.036      3.353      0.001       0.050       0.192\n",
      "female         0.3658      0.333      1.098      0.272      -0.287       1.018\n",
      "hsgrad         0.3835      0.324      1.183      0.237      -0.252       1.019\n",
      "hightar        0.2383      0.452      0.527      0.598      -0.648       1.125\n",
      "alcohol2       0.0238      0.316      0.075      0.940      -0.596       0.644\n",
      "marstatus2     0.7823      0.302      2.587      0.010       0.190       1.375\n",
      "==============================================================================\n"
     ]
    }
   ],
   "source": [
    "log_reg = smf.logit(\"attack ~ age + smokes + bmi + female + hsgrad + hightar + alcohol2 + marstatus2\", data=heart).fit()\n",
    "print(log_reg.summary())"
   ]
  },
  {
   "cell_type": "code",
   "execution_count": 44,
   "id": "2fcbcb3a",
   "metadata": {},
   "outputs": [
    {
     "name": "stdout",
     "output_type": "stream",
     "text": [
      "328.3219237442588\n",
      "360.50546567257567\n"
     ]
    }
   ],
   "source": [
    "#AIC and BIC of First Logit Model\n",
    "\n",
    "print(log_reg.aic)\n",
    "print(log_reg.bic)\n",
    "\n"
   ]
  },
  {
   "cell_type": "code",
   "execution_count": 45,
   "id": "a6bb2f97",
   "metadata": {
    "scrolled": true
   },
   "outputs": [
    {
     "name": "stdout",
     "output_type": "stream",
     "text": [
      "Optimization terminated successfully.\n",
      "         Current function value: 0.593000\n",
      "         Iterations 5\n",
      "                           Logit Regression Results                           \n",
      "==============================================================================\n",
      "Dep. Variable:                 attack   No. Observations:                  264\n",
      "Model:                          Logit   Df Residuals:                      259\n",
      "Method:                           MLE   Df Model:                            4\n",
      "Date:                Wed, 27 Apr 2022   Pseudo R-squ.:                  0.1432\n",
      "Time:                        02:17:41   Log-Likelihood:                -156.55\n",
      "converged:                       True   LL-Null:                       -182.72\n",
      "Covariance Type:            nonrobust   LLR p-value:                 1.176e-10\n",
      "==============================================================================\n",
      "                 coef    std err          z      P>|z|      [0.025      0.975]\n",
      "------------------------------------------------------------------------------\n",
      "Intercept     -5.5572      1.250     -4.447      0.000      -8.006      -3.108\n",
      "age            0.0291      0.012      2.373      0.018       0.005       0.053\n",
      "smokes         1.6061      0.287      5.591      0.000       1.043       2.169\n",
      "bmi            0.1150      0.035      3.271      0.001       0.046       0.184\n",
      "marstatus2     0.7401      0.297      2.494      0.013       0.159       1.322\n",
      "==============================================================================\n"
     ]
    }
   ],
   "source": [
    "lr_2 = smf.logit(\"attack ~ age + smokes + bmi + marstatus2\", data=heart).fit()\n",
    "print(lr_2.summary())"
   ]
  },
  {
   "cell_type": "code",
   "execution_count": 37,
   "id": "009aed74",
   "metadata": {},
   "outputs": [
    {
     "name": "stdout",
     "output_type": "stream",
     "text": [
      "323.1038770722358\n",
      "340.9836225879674\n"
     ]
    }
   ],
   "source": [
    "#AIC and BIC of Second Logit Model\n",
    "\n",
    "print(lr_2.aic)\n",
    "print(lr_2.bic)"
   ]
  },
  {
   "cell_type": "code",
   "execution_count": 38,
   "id": "57c2013e",
   "metadata": {},
   "outputs": [
    {
     "data": {
      "text/plain": [
       "Intercept    -6.228150\n",
       "age           0.030984\n",
       "smokes        1.547594\n",
       "bmi           0.120949\n",
       "female        0.365763\n",
       "hsgrad        0.383503\n",
       "hightar       0.238275\n",
       "alcohol2      0.023829\n",
       "marstatus2    0.782271\n",
       "dtype: float64"
      ]
     },
     "metadata": {},
     "output_type": "display_data"
    },
    {
     "data": {
      "text/plain": [
       "Intercept    -5.557244\n",
       "age           0.029092\n",
       "smokes        1.606115\n",
       "bmi           0.115032\n",
       "marstatus2    0.740098\n",
       "dtype: float64"
      ]
     },
     "metadata": {},
     "output_type": "display_data"
    }
   ],
   "source": [
    "\n",
    "#Inspect parameters\n",
    "display(log_reg.params)\n",
    "display(lr_2.params)"
   ]
  },
  {
   "cell_type": "code",
   "execution_count": 41,
   "id": "20dfcb70",
   "metadata": {},
   "outputs": [
    {
     "name": "stdout",
     "output_type": "stream",
     "text": [
      "                  OR  Lower CI  Upper CI\n",
      "Intercept   0.001973  0.000138  0.028225\n",
      "age         1.031469  1.006284  1.057284\n",
      "smokes      4.700146  2.342862  9.429223\n",
      "bmi         1.128568  1.051543  1.211234\n",
      "female      1.441614  0.750622  2.768707\n",
      "hsgrad      1.467416  0.777361  2.770025\n",
      "hightar     1.269058  0.522996  3.079391\n",
      "alcohol2    1.024115  0.550964  1.903593\n",
      "marstatus2  2.186433  1.208838  3.954614\n"
     ]
    }
   ],
   "source": [
    "#Calculating Odds Ratios\n",
    "\n",
    "import numpy as np\n",
    "\n",
    "odds_ratios = pd.DataFrame (\n",
    "\n",
    "{\n",
    "    \"OR\": log_reg.params,\n",
    "    \"Lower CI\": log_reg.conf_int()[0],\n",
    "    \"Upper CI\": log_reg.conf_int()[1],\n",
    "}\n",
    ")\n",
    "\n",
    "odds_ratios = np.exp(odds_ratios)\n",
    "\n",
    "print(odds_ratios)"
   ]
  }
 ],
 "metadata": {
  "kernelspec": {
   "display_name": "Python 3 (ipykernel)",
   "language": "python",
   "name": "python3"
  },
  "language_info": {
   "codemirror_mode": {
    "name": "ipython",
    "version": 3
   },
   "file_extension": ".py",
   "mimetype": "text/x-python",
   "name": "python",
   "nbconvert_exporter": "python",
   "pygments_lexer": "ipython3",
   "version": "3.9.6"
  }
 },
 "nbformat": 4,
 "nbformat_minor": 5
}
