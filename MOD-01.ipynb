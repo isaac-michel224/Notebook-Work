{
 "cells": [
  {
   "cell_type": "code",
   "execution_count": 12,
   "id": "923dd5c7",
   "metadata": {},
   "outputs": [
    {
     "name": "stdout",
     "output_type": "stream",
     "text": [
      "Hello Notebook!\n"
     ]
    }
   ],
   "source": [
    "print(\"Hello Notebook!\")"
   ]
  },
  {
   "cell_type": "code",
   "execution_count": 20,
   "id": "f4fb0618",
   "metadata": {},
   "outputs": [
    {
     "name": "stdout",
     "output_type": "stream",
     "text": [
      "Enter your first name: Isaacson\n",
      "Enter your last name: Michel\n",
      "Hello, Michel Isaacson\n"
     ]
    }
   ],
   "source": [
    "# Accept the user's first and last name and print them in reverse order with a space between them\n",
    "\n",
    "fname = input(\"Enter your first name: \")\n",
    "lname = input(\"Enter your last name: \")\n",
    "              \n",
    "print (\"Hello,\" + \" \" + lname + \" \" + fname)"
   ]
  },
  {
   "cell_type": "code",
   "execution_count": 29,
   "id": "2a00e5ff",
   "metadata": {
    "scrolled": true
   },
   "outputs": [
    {
     "name": "stdout",
     "output_type": "stream",
     "text": [
      "Enter number: 10\n",
      "1110\n"
     ]
    }
   ],
   "source": [
    "# Accept an integer (n) and compute the value of n+nn+nnn\n",
    "n = int(input(\"Enter number: \"))\n",
    "print(n+n*n+n*n*n)"
   ]
  },
  {
   "cell_type": "code",
   "execution_count": 34,
   "id": "4c4446bc",
   "metadata": {},
   "outputs": [],
   "source": [
    "x = 10\n",
    "y = 50\n",
    "if (x * 2 > 100 and y < 100): \n",
    "    print(x, y)\n",
    "    \n",
    "    #No Output"
   ]
  },
  {
   "cell_type": "code",
   "execution_count": 11,
   "id": "a3657788",
   "metadata": {},
   "outputs": [
    {
     "name": "stdout",
     "output_type": "stream",
     "text": [
      "[10, 20, 30, 40]\n",
      "[10, 20, 30, 40]\n"
     ]
    }
   ],
   "source": [
    "a = [10, 20]\n",
    "b = a\n",
    "b += [30, 40]\n",
    "print(a)\n",
    "print(b)\n",
    "\n",
    "#Output Below"
   ]
  },
  {
   "cell_type": "code",
   "execution_count": 14,
   "id": "2dfb85a6",
   "metadata": {},
   "outputs": [
    {
     "name": "stdout",
     "output_type": "stream",
     "text": [
      "2\n"
     ]
    }
   ],
   "source": [
    "print(2%6)"
   ]
  },
  {
   "cell_type": "code",
   "execution_count": 15,
   "id": "38ea4318",
   "metadata": {},
   "outputs": [
    {
     "name": "stdout",
     "output_type": "stream",
     "text": [
      "216\n"
     ]
    }
   ],
   "source": [
    "print(2 * 3 ** 3 * 4)"
   ]
  },
  {
   "cell_type": "code",
   "execution_count": null,
   "id": "3a3ff628",
   "metadata": {},
   "outputs": [],
   "source": [
    "# What is a text editor?\n",
    "\n",
    "# A Text editor is a place where you write, edit, and submit code"
   ]
  },
  {
   "cell_type": "code",
   "execution_count": null,
   "id": "c5e133fa",
   "metadata": {},
   "outputs": [],
   "source": [
    "# What is python?\n",
    "\n",
    "# Python is a programming language that allows one to write web-based applications."
   ]
  },
  {
   "cell_type": "code",
   "execution_count": null,
   "id": "17f9525f",
   "metadata": {},
   "outputs": [],
   "source": [
    "# What is jupyter notebook, what type of python environment is it, and what alternatives are there to jupyter notebook?\n",
    "\n",
    "# An open source project where one can write code online and share it.  "
   ]
  }
 ],
 "metadata": {
  "kernelspec": {
   "display_name": "Python 3 (ipykernel)",
   "language": "python",
   "name": "python3"
  },
  "language_info": {
   "codemirror_mode": {
    "name": "ipython",
    "version": 3
   },
   "file_extension": ".py",
   "mimetype": "text/x-python",
   "name": "python",
   "nbconvert_exporter": "python",
   "pygments_lexer": "ipython3",
   "version": "3.9.6"
  }
 },
 "nbformat": 4,
 "nbformat_minor": 5
}
