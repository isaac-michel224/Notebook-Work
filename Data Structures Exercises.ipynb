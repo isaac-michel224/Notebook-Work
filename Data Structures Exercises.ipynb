{
 "cells": [
  {
   "cell_type": "code",
   "execution_count": 2,
   "id": "1aa93869",
   "metadata": {},
   "outputs": [
    {
     "name": "stdout",
     "output_type": "stream",
     "text": [
      "Enter the coefficient a: 1\n",
      "Enter the coefficient b: 2\n",
      "Enter the coefficient c: 1\n",
      "The equation has one solution: -1.0 \n"
     ]
    }
   ],
   "source": [
    "# Exercise 1\n",
    "# In mathematics, the quadratic equation ax2+bx+c=0 can be solved with the formula x=−b±b2−4ac√2a.\n",
    "\n",
    "# Write a function solve_quadratic, that returns both solutions of a generic quadratic as a pair (2-tuple) when the coefficients are given as parameters. It should work like this:\n",
    "\n",
    "# print(solve_quadratic(1,-3,2))\n",
    "# (2.0,1.0)\n",
    "# print(solve_quadratic(1,2,1))\n",
    "# (-1.0,-1.0)\n",
    "\n",
    "\n",
    "import math \n",
    "\n",
    "a = int(input(\"Enter the coefficient a: \"))\n",
    "b = int(input(\"Enter the coefficient b: \"))\n",
    "c = int(input(\"Enter the coefficient c: \"))\n",
    "\n",
    "d = b ** 2 - 4 * a * c\n",
    "\n",
    "if d < 0:\n",
    "    print(\"The equation has no real solutions\")\n",
    "elif d == 0:\n",
    "    x = (-b + math.sqrt(b ** 2 - 4 * a * c)) / (2 * a)\n",
    "    print(f\"The equation has one solution: {x} \")\n",
    "else:\n",
    "    x1 = (-b + math.sqrt(b ** 2 - 4 * a * c)) / (2 * a)\n",
    "    x2 = (-b - math.sqrt(b ** 2 - 4 * a * c)) / (2 * a)\n",
    "    print(f\"The equation has two solutions: {x1} or {x2}\")\n",
    "    \n",
    "    \n"
   ]
  },
  {
   "cell_type": "code",
   "execution_count": 9,
   "id": "409408d8",
   "metadata": {},
   "outputs": [
    {
     "name": "stdout",
     "output_type": "stream",
     "text": [
      "The value of this tuple = 8939097161798340565\n"
     ]
    }
   ],
   "source": [
    "# Exercise 2\n",
    "# Get a space-separated list of integers from the user, create a tuple of those integers. Then compute and print the result of hash(tuple).\n",
    "\n",
    "# Documentation: hash() - https://docs.python.org/3/library/functions.html#hash\n",
    "\n",
    "thistuple = (3, 5, 7, 9, 11)\n",
    "\n",
    "print(\"The value of this tuple = \" + str(hash(thistuple)))\n",
    "\n"
   ]
  },
  {
   "cell_type": "code",
   "execution_count": 27,
   "id": "1abd52cd",
   "metadata": {},
   "outputs": [
    {
     "name": "stdout",
     "output_type": "stream",
     "text": [
      "[[3, 9, 15, 21, 4, 8, 12, 16, 20, 24, 28]]\n"
     ]
    }
   ],
   "source": [
    "# Exercise 3\n",
    "# Take the following two lists. Create a third list by picking a odd-index elements from the first list and even-index elements from the second.\n",
    "\n",
    "# listOne = [3, 6, 9, 12, 15, 18, 21]\n",
    "# listTwo = [4, 8, 12, 16, 20, 24, 28]\n",
    "\n",
    "listOne = [3, 6, 9, 12, 15, 18, 21]\n",
    "listTwo = [4, 8, 12, 16, 20, 24, 28]\n",
    "\n",
    "x = listOne[0::2]\n",
    "\n",
    "listThree = [listOne[0::2] + listTwo]\n",
    "\n",
    "print(listThree)\n",
    "\n",
    "\n"
   ]
  },
  {
   "cell_type": "code",
   "execution_count": 18,
   "id": "05668c89",
   "metadata": {},
   "outputs": [
    {
     "name": "stdout",
     "output_type": "stream",
     "text": [
      "[11, 45, 8]\n",
      "[23, 14, 12]\n",
      "[78, 45, 89]\n",
      "[89, 45, 78, 12, 14, 23, 8, 45, 11]\n"
     ]
    }
   ],
   "source": [
    "# Exercise 4\n",
    "# Take the following list. Slice it into three equal chunks and reverse each list.\n",
    "\n",
    "# sampleList = [11, 45, 8, 23, 14, 12, 78, 45, 89]\n",
    "\n",
    "List = [11, 45, 8, 23, 14, 12, 78, 45, 89]\n",
    "\n",
    "a = List[0:3] #1st part\n",
    "print(a)\n",
    "\n",
    "b = List[3:6] #2nd part\n",
    "print(b)\n",
    "\n",
    "c = List[6:9] #3rd part\n",
    "print(c)\n",
    "\n",
    "d = List[::-1] #Reverse of List Above\n",
    "print(d)\n",
    "\n"
   ]
  },
  {
   "cell_type": "code",
   "execution_count": 8,
   "id": "e37ec956",
   "metadata": {},
   "outputs": [
    {
     "name": "stdout",
     "output_type": "stream",
     "text": [
      "47\n",
      "[47, 64, 69, 37, 76, 83, 97]\n"
     ]
    }
   ],
   "source": [
    "# Exercise 5\n",
    "# Iterate through a given list and check if a given element already exists in a dictionary as a key’s value. If not, delete it from the list.\n",
    "\n",
    "# rollNumber = [47, 64, 69, 37, 76, 83, 95, 97]\n",
    "# sampleDict ={'Zach':47, 'Emma':69, 'Kelly':76, 'Jason':97}\n",
    "\n",
    "\n",
    "rollNumber = [47, 64, 69, 37, 76, 83, 95, 97]\n",
    "sampleDict = {'Zach':47, 'Emma':69, 'Kelly':76, 'Jason':97}\n",
    "\n",
    "print(sampleDict[\"Zach\"])\n",
    "\n",
    "del rollNumber[6]\n",
    "print(rollNumber)"
   ]
  }
 ],
 "metadata": {
  "kernelspec": {
   "display_name": "Python 3 (ipykernel)",
   "language": "python",
   "name": "python3"
  },
  "language_info": {
   "codemirror_mode": {
    "name": "ipython",
    "version": 3
   },
   "file_extension": ".py",
   "mimetype": "text/x-python",
   "name": "python",
   "nbconvert_exporter": "python",
   "pygments_lexer": "ipython3",
   "version": "3.9.6"
  }
 },
 "nbformat": 4,
 "nbformat_minor": 5
}
