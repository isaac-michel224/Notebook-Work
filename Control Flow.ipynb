{
 "cells": [
  {
   "cell_type": "code",
   "execution_count": null,
   "id": "65aa97e6",
   "metadata": {},
   "outputs": [
    {
     "name": "stdout",
     "output_type": "stream",
     "text": [
      "Enter a number betwwen 1 and 98\n",
      "Enter a number betwwen 1 and 910\n",
      "Enter a number betwwen 1 and 919\n",
      "Enter a number betwwen 1 and 9290\n",
      "Enter a number betwwen 1 and 92901\n"
     ]
    }
   ],
   "source": [
    "# Exercise 1\n",
    "# Guess a number between 1 to 9 given by the user\n",
    "\n",
    "import random\n",
    "random_number = random.randint(1,9)\n",
    "win = False\n",
    "Turns = 1\n",
    "while win==False:\n",
    "    Your_guess = input(\"Enter a number betwwen 1 and 9\")\n",
    "    Turns +=1\n",
    "    if random_number==int(Your_guess):\n",
    "        print(\"Your won!\")\n",
    "        win == True\n",
    "        break\n",
    "    else:\n",
    "        if random_number>int(Your_guess):\n",
    "            print(\"You lose\")\n",
    "\n"
   ]
  },
  {
   "cell_type": "code",
   "execution_count": 20,
   "id": "726c431a",
   "metadata": {},
   "outputs": [
    {
     "name": "stdout",
     "output_type": "stream",
     "text": [
      "Valid Password\n"
     ]
    }
   ],
   "source": [
    "# Exercise 2\n",
    "# Check the validity of password input by the user.\n",
    "\n",
    "# Validation:\n",
    "\n",
    "# At least 1 letter between [a-z] and 1 letter between [A-Z]\n",
    "# At least 1 number between [0-9]\n",
    "# At least 1 character from [$#@]\n",
    "# Minimum length 6 characters\n",
    "# Maximum length 16 characters\n",
    "# password = \"R@m@_f0rtu9e$\"\n",
    "import re\n",
    "password = \"R@m@_f0rtu9e$\"\n",
    "flag = 0\n",
    "while True:  \n",
    "    if (len(password)<8):\n",
    "        flag = -1\n",
    "        break\n",
    "    elif not re.search(\"[a-z]\", password):\n",
    "        flag = -1\n",
    "        break\n",
    "    elif not re.search(\"[A-Z]\", password):\n",
    "        flag = -1\n",
    "        break\n",
    "    elif not re.search(\"[0-9]\", password):\n",
    "        flag = -1\n",
    "        break\n",
    "    elif not re.search(\"[_@$]\", password):\n",
    "        flag = -1\n",
    "        break\n",
    "    elif re.search(\"\\s\", password):\n",
    "        flag = -1\n",
    "        break\n",
    "    else:\n",
    "        flag = 0\n",
    "        print(\"Valid Password\")\n",
    "        break\n",
    "  \n",
    "if flag ==-1:\n",
    "    print(\"Not a Valid Password\")\n",
    "\n"
   ]
  },
  {
   "cell_type": "code",
   "execution_count": 32,
   "id": "83a0c4ab",
   "metadata": {},
   "outputs": [
    {
     "data": {
      "text/plain": [
       "[8, 26, 34]"
      ]
     },
     "execution_count": 32,
     "metadata": {},
     "output_type": "execute_result"
    }
   ],
   "source": [
    "# Exercise 3\n",
    "# Get input of the age of 3 people by user and determine oldest and youngest among them\n",
    "\n",
    "# User_1 = int(input(\"Enter your age: \"))\n",
    "# User_2 = int(input(\"Enter your age: \"))\n",
    "# User_3 = int(input(\"Enter your age: \"))\n",
    "\n",
    "\n",
    "Users_Ages = [26,34, 8]\n",
    "\n",
    "sorted(Users_Ages)\n",
    "\n"
   ]
  },
  {
   "cell_type": "code",
   "execution_count": 26,
   "id": "37cf509f",
   "metadata": {},
   "outputs": [
    {
     "name": "stdout",
     "output_type": "stream",
     "text": [
      "Enter the number of class held: 4\n",
      "Enter the number of classes attended: 3\n",
      "0.75\n",
      "The student is allowed to take the exam\n"
     ]
    }
   ],
   "source": [
    "# Exercise 4\n",
    "# A student will not be allowed to sit in exam if his/her attendance is less than 75%.\n",
    "\n",
    "# Take following input from user\n",
    "\n",
    "# Number of classes held\n",
    "# Number of classes attended.\n",
    "# And print\n",
    "# percentage of class attended\n",
    "# Is student is allowed to sit in exam or not?\n",
    "\n",
    "import math \n",
    "\n",
    "c = int(input(\"Enter the number of class held: \"))\n",
    "d = int(input(\"Enter the number of classes attended: \"))\n",
    "\n",
    "print (d/c)\n",
    "\n",
    "\n",
    "if d%c >= 0.75: \n",
    "    print(\"The student is allowed to take the exam\")\n",
    "elif d%c <= 0.75: \n",
    "    print(\"The student is not allowed to take the exam\")\n",
    "else:\n",
    "    print(\"The student can sit in\")"
   ]
  },
  {
   "cell_type": "code",
   "execution_count": 16,
   "id": "483669e2",
   "metadata": {},
   "outputs": [
    {
     "name": "stdout",
     "output_type": "stream",
     "text": [
      "Not Weird\n"
     ]
    }
   ],
   "source": [
    "# Exercise 5\n",
    "\n",
    "# Get an integer N from the user and perform the following actions:\n",
    "\n",
    "# if N is odd, print \"weird\"\n",
    "# if N is even and in the inclusive range of 2 to 5, print \"Not Weird\"\n",
    "# if N is even and in the inclusive range of 6 to 20, print \"Weird\"\n",
    "# if N is even and greater than 20, print \"Not Weird\"\n",
    "\n",
    "n = 22\n",
    "\n",
    "if n%2==0 and range(2,5):\n",
    "    print(\"Not Weird\")\n",
    "elif n%2==0 and range(6,20):\n",
    "    print(\"Weird\")\n",
    "elif n%2==0 and n > 20:\n",
    "    print(\"Not Weird\")\n",
    "else:\n",
    "    print(\"Weird NUMBER??!!...That's ODD!?\")"
   ]
  }
 ],
 "metadata": {
  "kernelspec": {
   "display_name": "Python 3 (ipykernel)",
   "language": "python",
   "name": "python3"
  },
  "language_info": {
   "codemirror_mode": {
    "name": "ipython",
    "version": 3
   },
   "file_extension": ".py",
   "mimetype": "text/x-python",
   "name": "python",
   "nbconvert_exporter": "python",
   "pygments_lexer": "ipython3",
   "version": "3.9.6"
  }
 },
 "nbformat": 4,
 "nbformat_minor": 5
}
